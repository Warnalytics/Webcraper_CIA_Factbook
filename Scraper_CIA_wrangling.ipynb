{
 "metadata": {
  "language_info": {
   "codemirror_mode": {
    "name": "ipython",
    "version": 3
   },
   "file_extension": ".py",
   "mimetype": "text/x-python",
   "name": "python",
   "nbconvert_exporter": "python",
   "pygments_lexer": "ipython3",
   "version": 3
  },
  "orig_nbformat": 2
 },
 "nbformat": 4,
 "nbformat_minor": 2,
 "cells": [
  {
   "cell_type": "code",
   "execution_count": null,
   "metadata": {},
   "outputs": [],
   "source": [
    "land_use.pivot(index='Country', columns='Land', values='Use')\n",
    "\n",
    "pivot = land_use.pivot(index='Country', columns='Land', values='Use')\n",
    "pivot[:40].loc[:,['agricultural land','forest','other']].plot.bar(stacked=True, color=[\"#31A354\", \"#006D2C\",\"#004C6D\"], figsize=(18,6), ylabel='% of Land Use')"
   ]
  },
  {
   "cell_type": "code",
   "execution_count": null,
   "metadata": {},
   "outputs": [],
   "source": [
    "# Scraping the data from the country page(s) into a .csv\n",
    "Europe_West_CIA = ['belgium', 'france', 'ireland', 'luxembourg', 'monaco','netherlands', 'united kingdom']\n",
    "topics_to_compare = ['economy', 'geography']\n",
    "\n",
    "print('Scraping the results for Western Europe according to the CIA, on the topics of economy and geography')\n",
    "country_data_scraper(driver, Europe_West_CIA, topics_to_compare, append=True, append_name='EU_West')"
   ]
  },
  {
   "cell_type": "code",
   "execution_count": null,
   "metadata": {},
   "outputs": [],
   "source": [
    "#Let's get some more detail\n",
    "import re\n",
    "growth = results[['Country','eco_GDP real growth rate']].dropna()\n",
    "\n",
    "growth[['growth rate', 'year']] = growth['eco_GDP real growth rate'].str.split('%', expand=True)\n",
    "growth['growth rate'] = pd.to_numeric(growth['growth rate'])\n",
    "growth['year'] = growth['year'].str.findall('[0-9]+').str[0]\n",
    "growth.drop(columns='eco_GDP real growth rate', inplace=True)\n",
    "growth = growth.sort_values('year')\n",
    "\n",
    "import matplotlib.pyplot as plt\n",
    "import seaborn as sns\n",
    "\n",
    "sns.set(rc={'figure.figsize':(11.7,8.27)})\n",
    "\n",
    "sns.lineplot(data=growth[growth[year]], x='year', y='growth rate', hue='Country')"
   ]
  },
  {
   "cell_type": "code",
   "execution_count": null,
   "metadata": {},
   "outputs": [],
   "source": [
    "land_use = results[['Country', 'geo_Land use']]\n",
    "land_use[['Land', 'Use']] = land_use['geo_Land use'].str.split(':', expand=True)\n",
    "land_use.drop(columns=['geo_Land use'], inplace=True)\n",
    "\n",
    "land_use['Use'] = land_use['Use'].str.findall('[0-9]+').str[0]\n",
    "land_use['Use'] = pd.to_numeric(land_use['Use'])\n",
    "land_use.dropna(inplace=True)\n",
    "land_use"
   ]
  }
 ]
}